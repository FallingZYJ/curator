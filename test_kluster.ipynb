{
 "cells": [
  {
   "cell_type": "code",
   "execution_count": 1,
   "metadata": {},
   "outputs": [],
   "source": []
  },
  {
   "cell_type": "code",
   "execution_count": 1,
   "metadata": {},
   "outputs": [],
   "source": [
    "from bespokelabs import curator"
   ]
  },
  {
   "cell_type": "code",
   "execution_count": 2,
   "metadata": {},
   "outputs": [],
   "source": []
  },
  {
   "cell_type": "code",
   "execution_count": 3,
   "metadata": {},
   "outputs": [],
   "source": [
    "finetuning_client = curator.Finetune(backend=\"bespoke\", backend_params={\"base_url\": \"http://localhost:8080\"})"
   ]
  },
  {
   "cell_type": "code",
   "execution_count": 25,
   "metadata": {},
   "outputs": [
    {
     "name": "stdout",
     "output_type": "stream",
     "text": [
      "bespoke-d2bf08bd92fa6567b251e825ee4182fba880c7b1f16215ccd5f509f86871a4ba\n",
      "{'model_name': 'meta-llama/Meta-Llama-3-8B-Instruct', 'dataset_id': 'test', 'seed': 42, 'suffix': 'test', 'method': {'type': 'supervised', 'hyperparameters': {'learning_rate': 0.001, 'epochs': 1, 'batch_size': 16}}, 'job_name': 'test_job'}\n",
      "{'job_id': '925fed8203c64f69a036ba2431e36409', 'status': 'queued', 'created_at': '2025-04-22T01:25:38.058546Z', 'model_name': 'meta-llama/Meta-Llama-3-8B-Instruct', 'method': {'type': 'supervised', 'hyperparameters': {'learning_rate': 0.001, 'epochs': 1, 'batch_size': 16}}, 'seed': 42, 'suffix': 'test', 'user_id': '4a9259382afd4bea890ac57d9cce60ec', 'organization_id': '1345c8cca02a4859aabf8f9c1e8b707d', 'job_name': 'test_job', 'dataset_id': 'test'}\n"
     ]
    }
   ],
   "source": [
    "finetuning_client.create_job(\n",
    "    model_name=\"unsloth/Llama-3-8B-Instruct\",\n",
    "    job_name=\"test_job\",\n",
    "    dataset_id=\"test\",\n",
    "    seed=42,\n",
    "    suffix=\"test\",\n",
    "    method={\n",
    "        \"type\": \"supervised\",\n",
    "        \"hyperparameters\": {\n",
    "            \"learning_rate\": 0.001,\n",
    "            \"epochs\": 1,\n",
    "            \"batch_size\": 16,\n",
    "        },\n",
    "    },\n",
    ")"
   ]
  },
  {
   "cell_type": "code",
   "execution_count": 6,
   "metadata": {},
   "outputs": [
    {
     "name": "stdout",
     "output_type": "stream",
     "text": [
      "[{'job_id': 'c7eeb19bf13e4ca38e520d9e868f84fc', 'status': 'queued', 'created_at': '2025-04-18T01:47:32.515836Z', 'model_name': 'meta-llama/Meta-Llama-3-8B-Instruct', 'method': {'type': 'supervised', 'hyperparameters': {'epochs': 1, 'batch_size': 16, 'learning_rate': 0.001}}, 'seed': 42, 'suffix': 'test', 'user_id': '6096228b-c45f-4486-af75-3026d26e2155', 'organization_id': 'a61334f1-7adf-4c0a-bafa-2a99e8009c2a', 'job_name': 'test_job', 'dataset_id': 'test'}, {'job_id': '159abd326a894ab9bd9b5a84a26e6747', 'status': 'queued', 'created_at': '2025-04-18T01:48:45.360006Z', 'model_name': 'meta-llama/Meta-Llama-3-8B-Instruct', 'method': {'type': 'supervised', 'hyperparameters': {'epochs': 1, 'batch_size': 16, 'learning_rate': 0.001}}, 'seed': 42, 'suffix': 'test', 'user_id': '61c25770-ba5d-49e0-b867-da46a7dba887', 'organization_id': '0424be00-87c2-4555-824e-529557626d45', 'job_name': 'test_job', 'dataset_id': 'test'}, {'job_id': '86334be4ced84056bdb202445ffc2d58', 'status': 'queued', 'created_at': '2025-04-18T02:00:17.035462Z', 'model_name': 'meta-llama/Meta-Llama-3-8B-Instruct', 'method': {'type': 'supervised', 'hyperparameters': {'epochs': 1, 'batch_size': 16, 'learning_rate': 0.001}}, 'seed': 42, 'suffix': 'test', 'user_id': '939ff2c7-697b-43c9-aafe-3210901b288c', 'organization_id': '60ebb12e-f720-4e51-a3e1-a712117acd4d', 'job_name': 'test_job', 'dataset_id': 'test'}]\n"
     ]
    }
   ],
   "source": [
    "print(finetuning_client.list_jobs())"
   ]
  },
  {
   "cell_type": "code",
   "execution_count": null,
   "metadata": {},
   "outputs": [],
   "source": []
  }
 ],
 "metadata": {
  "kernelspec": {
   "display_name": "bespokelabs-curator-Ky8xEGex-py3.10",
   "language": "python",
   "name": "python3"
  },
  "language_info": {
   "codemirror_mode": {
    "name": "ipython",
    "version": 3
   },
   "file_extension": ".py",
   "mimetype": "text/x-python",
   "name": "python",
   "nbconvert_exporter": "python",
   "pygments_lexer": "ipython3",
   "version": "3.10.16"
  }
 },
 "nbformat": 4,
 "nbformat_minor": 2
}
